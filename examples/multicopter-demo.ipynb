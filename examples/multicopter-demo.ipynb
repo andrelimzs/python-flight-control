{
 "cells": [
  {
   "cell_type": "code",
   "execution_count": 1,
   "id": "9f242b1e-c67a-4bf5-935a-47964fffddb8",
   "metadata": {},
   "outputs": [
    {
     "name": "stdout",
     "output_type": "stream",
     "text": [
      "You can open the visualizer by visiting the following URL:\n",
      "http://127.0.0.1:7000/static/\n"
     ]
    }
   ],
   "source": [
    "import sys\n",
    "sys.path.append(\"..\")\n",
    "\n",
    "import numpy as np\n",
    "import numpy.linalg as LA\n",
    "from scipy.integrate import solve_ivp\n",
    "import matplotlib.pyplot as plt\n",
    "import control\n",
    "\n",
    "import time\n",
    "import meshcat\n",
    "\n",
    "from flightcontrol.Quadcopter import *\n",
    "from flightcontrol.Controller import *\n",
    "from flightcontrol.Utils import *\n",
    "from flightcontrol.Visualise import *\n",
    "\n",
    "# Create a new visualizer\n",
    "vis = meshcat.Visualizer()\n",
    "\n",
    "# Specify physical parameters\n",
    "params = { 'mass': 1, 'J': np.array([0.01, 0.01, 0.02])}"
   ]
  },
  {
   "cell_type": "markdown",
   "id": "daf52934-4691-403f-8a44-64ac150506a9",
   "metadata": {},
   "source": [
    "### Compute Control Law\n",
    "For the state-space system\n",
    "\n",
    "$ \\dot{x} = Ax + Bu $\n",
    "\n",
    "Find the control law $u = -Kx$ \\\n",
    "such that the closed-loop system\n",
    "\n",
    "$ \\dot{x} = (A-BK) x $\n",
    "\n",
    "has the desired response"
   ]
  },
  {
   "cell_type": "code",
   "execution_count": null,
   "id": "ea643976-57ac-4600-b636-2453ff54ad45",
   "metadata": {
    "tags": []
   },
   "outputs": [],
   "source": [
    "# Compute state feedback\n",
    "z3 = np.zeros((3,3))\n",
    "I3 = np.eye(3)\n",
    "A = np.block([[z3, I3],[z3, z3]])\n",
    "B = np.block([[z3],[I3]])\n",
    "p = np.repeat([-3,-4], 3)\n",
    "kTranslation = control.place(A, B, p)\n",
    "\n",
    "# Compute state feedback\n",
    "z3 = np.zeros((3,3))\n",
    "I3 = np.eye(3)\n",
    "A = np.block([[z3, I3],[z3, z3]])\n",
    "B = np.block([[z3],[I3]])\n",
    "p = np.repeat([-10,-12], 3)\n",
    "kRotation = control.place(A, B, p)\n",
    "\n",
    "# Instantiate Controller\n",
    "controller = PIDController(kTranslation, kRotation)"
   ]
  },
  {
   "cell_type": "markdown",
   "id": "dca84aaa-1b64-43cd-ba3c-163ff06be127",
   "metadata": {},
   "source": [
    "### Generate Trajectory and Run Simulation\n",
    "Specify the trajectory as a function of time in `ref_function`"
   ]
  },
  {
   "cell_type": "code",
   "execution_count": null,
   "id": "0a8e462e-da23-4d1a-abdc-594c7589a5d5",
   "metadata": {},
   "outputs": [],
   "source": [
    "%%time\n",
    "\n",
    "# Generate trajectory\n",
    "def ref_function(t):\n",
    "    t = np.atleast_1d(t)\n",
    "    nan  = np.nan * t\n",
    "    zero = 0 * t\n",
    "    \n",
    "    ref = {}\n",
    "    ref['pos']  = np.stack(np.squeeze( [nan, nan, nan ] ))\n",
    "    ref['vel']  = np.stack(np.squeeze( [nan, nan, nan ] ))\n",
    "    ref['att']  = np.stack(np.squeeze( [nan, nan, zero] ))\n",
    "    ref['rate'] = np.stack(np.squeeze( [nan, nan, nan ] ))\n",
    "    \n",
    "    ref['pos'][0] = 5*np.sin(1*t)\n",
    "    ref['pos'][1] = 5*np.sin(0.5*t)\n",
    "    ref['pos'][2] = -1 * (t > 0).astype(int)\n",
    "    # ref['att'][0] = 0.5*np.sin(2*t)\n",
    "    # ref['att'][1] = 0.5*np.sin(1*t)\n",
    "    # ref['att'][2] = 0*np.sin(5*t)\n",
    "    \n",
    "    return ref\n",
    "\n",
    "# Run Simulation\n",
    "Ts     = 1/100\n",
    "t_span = [0,20]\n",
    "t_eval = np.arange(t_span[0], t_span[1], Ts)\n",
    "\n",
    "# Instantiate Quadcopter\n",
    "quadcopter = Quadcopter(params, ref_function, controller, 'Quaternion')\n",
    "\n",
    "# Run simulation (solve ODE)\n",
    "sol = solve_ivp(quadcopter, t_span, quadcopter.x0(), t_eval=t_eval)\n",
    "\n",
    "# Unpack state & reference\n",
    "t = sol.t\n",
    "state = quadcopter.unpack_state(sol.y)\n",
    "ref = ref_function(sol.t)\n",
    "\n",
    "# Recreate control input\n",
    "u = np.zeros((4, len(t)))\n",
    "for i in range(len(t)):\n",
    "    x = quadcopter.unpack_state(sol.y[:,i])\n",
    "    r = ref_function(t[i])\n",
    "    u[:,i] = controller(r, x)\n",
    "T = u[0]\n",
    "LMN = u[1:4]"
   ]
  },
  {
   "cell_type": "code",
   "execution_count": null,
   "id": "d7c4a37a-cb9a-4976-b66c-f94f166ee651",
   "metadata": {},
   "outputs": [],
   "source": [
    "%matplotlib inline\n",
    "plt.rcParams[\"figure.figsize\"] = (20,5)\n",
    "\n",
    "fig,ax = plt.subplots(3,2, sharex=True)\n",
    "for i in range(3):\n",
    "    ax[i,0].plot(t, state['pos'][i])\n",
    "    ax[i,0].plot(t, ref['pos'][i])\n",
    "    \n",
    "    ax[i,1].plot(t, np.rad2deg(state['eul'][i]))\n",
    "    ax[i,1].plot(t, np.rad2deg(ref['att'][i]))\n",
    "\n",
    "[ ax[i,j].grid() for i in range(3) for j in range(2) ]\n",
    "ax[0,0].set_title('Pos')\n",
    "ax[0,1].set_title('Att')\n",
    "\n",
    "fig,ax = plt.subplots(3,2, sharex=True)\n",
    "for i in range(3):\n",
    "    ax[i,0].plot(t, state['vel'][i])\n",
    "    ax[i,0].plot(t, ref['vel'][i])\n",
    "    \n",
    "    ax[i,1].plot(t, np.rad2deg(state['rate'][i]))\n",
    "    ax[i,1].plot(t, np.rad2deg(ref['rate'][i]))\n",
    "    # ax[i,3].plot(time, LMN[i])\n",
    "    \n",
    "[ ax[i,j].grid() for i in range(3) for j in range(2) ]\n",
    "ax[0,0].set_title('Vel')\n",
    "ax[0,1].set_title('Rate')"
   ]
  },
  {
   "cell_type": "markdown",
   "id": "d8e34ba0-2354-490c-a5ad-b3ff4e231a6a",
   "metadata": {},
   "source": [
    "### Visualise"
   ]
  },
  {
   "cell_type": "code",
   "execution_count": null,
   "id": "89c24523-58b1-4c3b-b8f2-366eb685313b",
   "metadata": {
    "tags": []
   },
   "outputs": [],
   "source": [
    "# Reinitialise Meshcat scene\n",
    "vis.delete()\n",
    "drone = create_quadcopter(vis)\n",
    "move_camera(vis, axis=[0,0,1], angle=45, offset=[3,3,1])\n",
    "\n",
    "# Animate and save scene, then render as static snapshot\n",
    "anim = meshcat.animation.Animation()\n",
    "for i in range(0, len(t), 10):   \n",
    "    with anim.at_frame(vis, i) as frame:\n",
    "        frame.set_transform(homogeneous_transform_NED(state['eul'][:,i], state['pos'][:,i]))\n",
    "\n",
    "vis.set_animation(anim)\n",
    "vis.render_static()"
   ]
  }
 ],
 "metadata": {
  "jupytext": {
   "formats": "ipynb,py:light"
  },
  "kernelspec": {
   "display_name": "Python [conda env:control-systems] *",
   "language": "python",
   "name": "conda-env-control-systems-py"
  },
  "language_info": {
   "codemirror_mode": {
    "name": "ipython",
    "version": 3
   },
   "file_extension": ".py",
   "mimetype": "text/x-python",
   "name": "python",
   "nbconvert_exporter": "python",
   "pygments_lexer": "ipython3",
   "version": "3.9.7"
  }
 },
 "nbformat": 4,
 "nbformat_minor": 5
}
